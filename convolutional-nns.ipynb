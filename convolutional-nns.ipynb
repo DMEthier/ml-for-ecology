{
 "cells": [
  {
   "cell_type": "markdown",
   "metadata": {},
   "source": [
    "# Convolutional neural networks"
   ]
  },
  {
   "cell_type": "markdown",
   "metadata": {},
   "source": [
    "---\n",
    "\n",
    "Convolutional neural networks (CNNs) refer to a particular kind of neural network architecture that has proved enormously successful in dealing with data in which the input features exhibit some kind of spatial or temporal ordering. A surprisingly large number of data sets and applications fall into this category. For example:\n",
    "\n",
    "- **Images** display spatial ordering. We expect pixel values in nearby pixels to be similar, and if they are not similar this tells us something valuable (for example, that we have encountered an edge)\n",
    "- **Audio** or **acoustic** data displays temporal ordering. In music for example, the *sequence* of notes conveys important information. If you randomly reorder the notes in a symphony, you most likely end up with something that sounds very different, and very much worse, than the original. \n",
    "- **Text** data is also ordered \"temporally\", in the same way that audio is. We have seen that bag-of-words models can give good predictive results, but it would be no surprise to learn that better results can be obtained if we look at the order in which words are combined.\n",
    "- **Video** data is both spatially and temporally ordered: it is a collection of images ordered through time.\n",
    "\n",
    "CNNs are designed to exploit the structure of ordered data. Their fundamental building block is the *convolution filter*, a small matrix of coefficients or \"mask\" that is placed \"on top\" the ordered data and slid \"along\" the data in the direction given by the natural ordering. At each step, the coefficients in the convolution filter are multiplied with the data they are currently sitting on top of, and this multiplication can amplify or dampen the features in the data in a vast number of ways. This is the way CNNs extract \"meaning\" from data.\n",
    "\n",
    "Each layer in a CNN consists of a user-specified number of these convolution filters, plus some additional operations and transformations. The output of one layer forms the input to the next. In this way the convolution filters in one layer operate on the outputs of convolution filters in the previous layer. In practice, this means that convolution filters in early layers tend to detect very simple patterns (like edges in images) and later layers combine these patterns into something much more elaborate (the letter \"E\", or a face, for example). For this reason most CNNs are deep CNNs - they have several hidden layers between their input and output layers.\n",
    "\n",
    "This notebook shows you how to fit CNNs to data in R. As in the previous lesson, there are two main goals: **understanding** what is going on in a CNN, which we'll do by looking at a spreadsheet example, and **implementing** CNNs on a larger scale.\n",
    "\n",
    "---"
   ]
  },
  {
   "cell_type": "code",
   "execution_count": null,
   "metadata": {
    "collapsed": true
   },
   "outputs": [],
   "source": [
    "library(keras)\n",
    "library(dplyr)\n",
    "library(ggplot2)"
   ]
  },
  {
   "cell_type": "code",
   "execution_count": null,
   "metadata": {
    "collapsed": true
   },
   "outputs": [],
   "source": [
    "mnist <- dataset_mnist()"
   ]
  },
  {
   "cell_type": "markdown",
   "metadata": {},
   "source": [
    "## Training a simple CNN on the MNIST data set\n",
    "\n",
    "This section fits a simple CNN to the same MNIST data we used above. The section shows the way in which convolutional layers are implemented by Keras i.e. how to specify convolution filters and associated operations like max pooling. The example is taken from the RStudio Keras example pages [here](https://keras.rstudio.com/articles/examples/index.html)."
   ]
  },
  {
   "cell_type": "markdown",
   "metadata": {},
   "source": [
    "### Data preparation\n",
    "\n",
    "We start by doing exactly the same data preparation as in the previous example (we don't need to rerun this, but just to make it clearer what we're doing)."
   ]
  },
  {
   "cell_type": "code",
   "execution_count": null,
   "metadata": {
    "collapsed": true
   },
   "outputs": [],
   "source": [
    "# separate out x and y values, and test and training data\n",
    "x_train <- mnist$train$x\n",
    "y_train <- mnist$train$y\n",
    "x_test <- mnist$test$x\n",
    "y_test <- mnist$test$y\n",
    "\n",
    "# convert integers to floating point\n",
    "x_train <- x_train / 255\n",
    "x_test <- x_test / 255\n",
    "\n",
    "# one-hot encoding\n",
    "y_train <- to_categorical(y_train, 10)\n",
    "y_test <- to_categorical(y_test, 10)"
   ]
  },
  {
   "cell_type": "markdown",
   "metadata": {},
   "source": [
    "The first important difference between the CNN we fit here and the previous example is the dimensions of the input data. In the previous example, we \"unravelled\" or \"flattened\" each 28 x 28 image into a vector of length 784. The input data was a matrix with the same number of rows as input samples (60,000 in the training sample) and 784 columns. \n",
    "\n",
    "The dimension of the input for a 2-D CNN such as would be used for image classification is given by \n",
    "```\n",
    "c(number of observations, image width in pixels, image height in pixels, number of values per pixel)\n",
    "```\n",
    "The number of values per pixel would usually be either 1 (grayscale images) or 3 (RGB images). In other words, each input observation (a grayscale image) is a 28 x 28 x 1 matrix (called a \"tensor\")."
   ]
  },
  {
   "cell_type": "code",
   "execution_count": null,
   "metadata": {
    "collapsed": true
   },
   "outputs": [],
   "source": [
    "dim(x_train) <- c(nrow(x_train), 28, 28, 1) \n",
    "dim(x_test) <- c(nrow(x_test), 28, 28, 1)"
   ]
  },
  {
   "cell_type": "markdown",
   "metadata": {},
   "source": [
    "We print out the number of images in the training and test sets below."
   ]
  },
  {
   "cell_type": "code",
   "execution_count": null,
   "metadata": {
    "collapsed": true
   },
   "outputs": [],
   "source": [
    "cat('x_train_shape:', dim(x_train), '\\n')\n",
    "cat(nrow(x_train), 'train samples\\n')\n",
    "cat(nrow(x_test), 'test samples\\n')"
   ]
  },
  {
   "cell_type": "markdown",
   "metadata": {},
   "source": [
    "### Model building"
   ]
  },
  {
   "cell_type": "markdown",
   "metadata": {},
   "source": [
    "#### Defining the model\n",
    "We use a sequential model as before. The only difference is that we are now stacking up convolutional layers."
   ]
  },
  {
   "cell_type": "code",
   "execution_count": null,
   "metadata": {
    "collapsed": true
   },
   "outputs": [],
   "source": [
    "model <- keras_model_sequential()"
   ]
  },
  {
   "cell_type": "markdown",
   "metadata": {},
   "source": [
    "The main differences between the feedforward network in the previous section and the CNN we're now fitting is in the next code block. Note that the \"dense\" (fully connected) hidden layers (`layer_dense()`) have been replaced by a new layer type called `layer_conv_2d()`. There are two convolutional hidden layers.\n",
    "\n",
    "* The first hidden layer must specify the shape of the input, as before. That is done using the `input_shape` argument.\n",
    "* For any convolutional layer, we need to specify:\n",
    "    * The number of convolution filters to use in that layer\n",
    "    * The size of those filters (number of pixels wide, number of pixels high)\n",
    "    * The activation function\n",
    "* After any convolutional layer we *may* add a max pooling layer that reduces the dimensionality of the output of that layer (see spreadsheet explanation), or a dropout layer. Here, we have added dropout after layer 1 and max pooling after layer 2.\n",
    "* The final hidden convolutional layer must be \"flattened\" before being connected to the output layer, using `layer_flatten()`. We could have added additional dense layers between the convolutional layers and the output layer if we wanted to.\n",
    "    \n"
   ]
  },
  {
   "cell_type": "code",
   "execution_count": null,
   "metadata": {
    "collapsed": true
   },
   "outputs": [],
   "source": [
    "model %>%\n",
    "  layer_conv_2d(filters = 32,                      # number of convolution filters in conv layer 1\n",
    "                kernel_size = c(3,3),              # use 3 x 3 convolution filter in conv layer 1\n",
    "                input_shape = c(28, 28, 1)) %>%    # shape of input data\n",
    "  layer_activation('relu') %>%                     # activation function in conv layer 1\n",
    "  layer_dropout(rate = 0.20) %>%                   # apply 20% dropout after conv layer 1\n",
    "  layer_conv_2d(filters = 64,                      # number of convolution filters in conv layer 2\n",
    "                kernel_size = c(3,3)) %>%          # also use 3 x 3 filter in conv layer 2\n",
    "  layer_activation('relu') %>%                     # activation function in conv layer 2\n",
    "  layer_max_pooling_2d(pool_size = c(2, 2)) %>%    # apply max pooling after conv layer 2\n",
    "  layer_flatten() %>%                              # flatten output into a vector\n",
    "  layer_dense(units = 10, activation = 'softmax')  # fully connected to output layer"
   ]
  },
  {
   "cell_type": "code",
   "execution_count": null,
   "metadata": {
    "collapsed": true
   },
   "outputs": [],
   "source": [
    "summary(model)"
   ]
  },
  {
   "cell_type": "markdown",
   "metadata": {},
   "source": [
    "#### Compiling the model\n",
    "\n",
    "The remainder of the model building proceeds as before. We compile the model after adding our choice of loss function and optimizer, fit the model to training data, and evaluate it on the test data."
   ]
  },
  {
   "cell_type": "code",
   "execution_count": null,
   "metadata": {
    "collapsed": true
   },
   "outputs": [],
   "source": [
    "model %>% compile(\n",
    "  loss = 'categorical_crossentropy',\n",
    "  optimizer = 'rmsprop',\n",
    "  metrics = c('accuracy')\n",
    ")"
   ]
  },
  {
   "cell_type": "markdown",
   "metadata": {},
   "source": [
    "#### Training the model"
   ]
  },
  {
   "cell_type": "code",
   "execution_count": null,
   "metadata": {
    "collapsed": true
   },
   "outputs": [],
   "source": [
    "model %>% fit(\n",
    "  x_train, y_train,\n",
    "  batch_size = 128,\n",
    "  epochs = 3,\n",
    "  verbose = 1,\n",
    "  validation_split = 0.2\n",
    ")"
   ]
  },
  {
   "cell_type": "markdown",
   "metadata": {},
   "source": [
    "#### Evaluating the model on test data"
   ]
  },
  {
   "cell_type": "code",
   "execution_count": null,
   "metadata": {
    "collapsed": true
   },
   "outputs": [],
   "source": [
    "model %>% evaluate(x_test, y_test)"
   ]
  },
  {
   "cell_type": "markdown",
   "metadata": {},
   "source": [
    "## Saving your model\n",
    "\n",
    "Something we haven't talked about yet is saving your model. Neural networks can take a long time to run and so most of the time you'll want to save your final model so that you can load it back in for later sessions. \n",
    "\n",
    "The **keras** package provides a few options for saving a model:\n",
    "\n",
    "### Save the whole model\n",
    "The `save_model_hdf5()` function basically saves the entire model in a single file. It saves the model architecture (so you can re-compile), the model weights, and the state of the optimizer (so you can resume training where you left off). "
   ]
  },
  {
   "cell_type": "code",
   "execution_count": null,
   "metadata": {
    "collapsed": true
   },
   "outputs": [],
   "source": [
    "save_model_hdf5(model, \"my_mnist_model.h5\")"
   ]
  },
  {
   "cell_type": "markdown",
   "metadata": {},
   "source": [
    "You can load the model later with load_model_hdf5()."
   ]
  },
  {
   "cell_type": "code",
   "execution_count": null,
   "metadata": {
    "collapsed": true
   },
   "outputs": [],
   "source": [
    "model <- load_model_hdf5(\"my_mnist_model.h5\")\n",
    "\n",
    "scores <- model %>% evaluate(x_test, y_test)\n",
    "cat('Test loss:', scores[[1]], '\\n')\n",
    "cat('Test accuracy:', scores[[2]], '\\n')"
   ]
  },
  {
   "cell_type": "markdown",
   "metadata": {},
   "source": [
    "### Save the model weights only\n",
    "\n",
    "The `save_model_weights_hdf5()` function just saves the model weights. "
   ]
  },
  {
   "cell_type": "code",
   "execution_count": null,
   "metadata": {
    "collapsed": true
   },
   "outputs": [],
   "source": [
    "save_model_weights_hdf5(model, \"my_model_weights.h5\")"
   ]
  },
  {
   "cell_type": "markdown",
   "metadata": {},
   "source": [
    "You can load the weights later with `load_model_weights_hdf5()`. When you use `save_model_weights_hdf5()`, the architecture of the model is not saved, so you need to be careful when you reload the model. There are two main options: reloading the weights on top of the same model architecture you used to fit the weights, or reloading the weights on top of a new model architecture. The latter is useful if you want to keep certain layers of a model, but also modify or add new layers.\n",
    "\n",
    "#### Reloading the weights on top of the same model architecture \n",
    "\n",
    "In cases where you want to use the same architecture as was used to create the model, you need to define the model the same way as you did when the weights were saved, and set the `by_name = FALSE` (the default) in `load_model_weights_hdf5()`. Note that layers that don't have weights are not taken into account in the topological ordering, so adding or removing layers is fine as long as they don't have weights. For example, removing the dropout layers in `model2` below has no effect (because we're not estimating the weights, just applying the saved ones).\n",
    "\n",
    "Let's set up a new model called `model2` which is exactly the same as the previous model."
   ]
  },
  {
   "cell_type": "code",
   "execution_count": null,
   "metadata": {
    "collapsed": true
   },
   "outputs": [],
   "source": [
    "model2 <- keras_model_sequential() \n",
    "model2 %>%\n",
    "  layer_conv_2d(filters = 32,                      # number of convolution filters in conv layer 1\n",
    "                kernel_size = c(3,3),              # use 3 x 3 convolution filter in conv layer 1\n",
    "                input_shape = c(28, 28, 1)) %>%    # shape of input data\n",
    "  layer_activation('relu') %>%                     # activation function in conv layer 1\n",
    "  layer_dropout(rate = 0.20) %>%                   # apply 20% dropout after conv layer 1\n",
    "  layer_conv_2d(filters = 64,                      # number of convolution filters in conv layer 2\n",
    "                kernel_size = c(3,3)) %>%          # also use 3 x 3 filter in conv layer 2\n",
    "  layer_activation('relu') %>%                     # activation function in conv layer 2\n",
    "  layer_max_pooling_2d(pool_size = c(2, 2)) %>%    # apply max pooling after conv layer 2\n",
    "  layer_flatten() %>%                              # flatten output into a vector\n",
    "  layer_dense(units = 10, activation = 'softmax') %>%  # fully connected to output layer\n",
    "  compile(\n",
    "  loss = 'categorical_crossentropy',\n",
    "  optimizer = 'rmsprop',\n",
    "  metrics = c('accuracy')\n",
    ")"
   ]
  },
  {
   "cell_type": "markdown",
   "metadata": {},
   "source": [
    "We now load the weights we previously saved (from the `model` object) and apply these to the new `model2`. We get exactly the same test accuracy as before (unsurprisingly!)."
   ]
  },
  {
   "cell_type": "code",
   "execution_count": null,
   "metadata": {
    "collapsed": true
   },
   "outputs": [],
   "source": [
    "model2 %>% load_model_weights_hdf5(\"my_model_weights.h5\", by_name = FALSE)\n",
    "\n",
    "scores <- model2 %>% evaluate(x_test, y_test)\n",
    "cat('Test loss:', scores[[1]], '\\n')\n",
    "cat('Test accuracy:', scores[[2]], '\\n')"
   ]
  },
  {
   "cell_type": "markdown",
   "metadata": {},
   "source": [
    "## Classifying invasive species\n",
    "\n",
    "In this section we'll build a CNN to predict whether an image contains an invasive species or not. The data is taken from [this Kaggle problem](https://www.kaggle.com/c/invasive-species-monitoring). The data set contains pictures taken in a Brazilian national forest. In some of the pictures there is Hydrangea, a beautiful invasive species original of Asia. We would like to predict the presence of the invasive species. Some of the code in this example is taken from one of the Kaggle competition \"kernels\" (code people make publicably available) [here](https://www.kaggle.com/ogurtsov/0-99-with-r-and-keras-inception-v3-fine-tune).\n"
   ]
  },
  {
   "cell_type": "markdown",
   "metadata": {},
   "source": [
    "We store our images in a very particular way:\n",
    "\n",
    "* Separate folders for training, test, and validation images\n",
    "* Within each folder (e.g. within the training folder), separate folders for each class (e.g. a folder for invasives and a folder for non-invasives).\n",
    "\n",
    "I recommend creating a folder called \"sample\" that has exactly the same folder structure as above, but just contains a small number (10 or so) images in each folder. This will allow you to test whether your code is working without having to wait for a long time. Once you are satisfied your code is running, you can just change the directory reference to the main set of folders.\n",
    "\n",
    "We start by specifying where our training, test, and validation images are (so, later on, remove the reference to \"sample\" below)."
   ]
  },
  {
   "cell_type": "code",
   "execution_count": null,
   "metadata": {
    "collapsed": true
   },
   "outputs": [],
   "source": [
    "train_directory <- \"data/invasives/sample/train/\"\n",
    "validation_directory <- \"data/invasives/sample/validation/\"\n",
    "test_directory <- \"data/invasives/sample/test/\"\n",
    "\n",
    "# once you are satisfied the code is working, run full dataset\n",
    "# train_directory <- \"data/invasives/train/\"\n",
    "# validation_directory <- \"data/invasives/validation/\"\n",
    "# test_directory <- \"data/invasives/test/\""
   ]
  },
  {
   "cell_type": "markdown",
   "metadata": {},
   "source": [
    "Each image will be resized to `img_width` $\\times$ `img_height`, specified below (can also leave this step out and use the images as is)."
   ]
  },
  {
   "cell_type": "code",
   "execution_count": null,
   "metadata": {
    "collapsed": true
   },
   "outputs": [],
   "source": [
    "img_height <- 224\n",
    "img_width <- 224\n",
    "batch_size <- 16"
   ]
  },
  {
   "cell_type": "markdown",
   "metadata": {},
   "source": [
    "Next we calculate the number of images in our training, validation, and test samples. We do this by counting up the total number of files in the directories (note this means you should only have the image files in each directory)"
   ]
  },
  {
   "cell_type": "code",
   "execution_count": null,
   "metadata": {
    "collapsed": true
   },
   "outputs": [],
   "source": [
    "train_samples <- length(list.files(paste(train_directory,\"invasive\",sep=\"\"))) +\n",
    "    length(list.files(paste(train_directory,\"non_invasive\",sep=\"\")))\n",
    "\n",
    "validation_samples <- length(list.files(paste(validation_directory,\"invasive\",sep=\"\"))) +\n",
    "    length(list.files(paste(validation_directory,\"non_invasive\",sep=\"\")))\n",
    "\n",
    "test_samples <- length(list.files(paste(test_directory,\"invasive\",sep=\"\"))) +\n",
    "    length(list.files(paste(test_directory,\"non_invasive\",sep=\"\")))"
   ]
  },
  {
   "cell_type": "markdown",
   "metadata": {},
   "source": [
    "The next block uses a handy Keras function called `flow_images_from_directory()`, which generates batches of data from images in a directory."
   ]
  },
  {
   "cell_type": "code",
   "execution_count": null,
   "metadata": {
    "collapsed": true
   },
   "outputs": [],
   "source": [
    "train_generator <- flow_images_from_directory(\n",
    "  train_directory, \n",
    "  generator = image_data_generator(), ,\n",
    "  target_size = c(img_height, img_width),\n",
    "  color_mode = \"rgb\",\n",
    "  class_mode = \"binary\", \n",
    "  batch_size = batch_size, \n",
    "  shuffle = TRUE,\n",
    "  seed = 123)\n",
    "\n",
    "validation_generator <- flow_images_from_directory(\n",
    "  validation_directory, \n",
    "  generator = image_data_generator(), ,\n",
    "  target_size = c(img_height, img_width), \n",
    "  color_mode = \"rgb\", \n",
    "  classes = NULL,\n",
    "  class_mode = \"binary\", \n",
    "  batch_size = batch_size, \n",
    "  shuffle = TRUE,\n",
    "  seed = 123)\n",
    "\n",
    "test_generator <- flow_images_from_directory(\n",
    "  test_directory, \n",
    "  generator = image_data_generator(),\n",
    "  target_size = c(img_height, img_width), \n",
    "  color_mode = \"rgb\", \n",
    "  class_mode = \"binary\", \n",
    "  batch_size = 1,\n",
    "  shuffle = FALSE) "
   ]
  },
  {
   "cell_type": "markdown",
   "metadata": {},
   "source": [
    "Define and compile the CNN in a similar way to before. We now have a binary classification problem, so we use a single output neuron with a sigmoid activation."
   ]
  },
  {
   "cell_type": "code",
   "execution_count": null,
   "metadata": {
    "collapsed": true
   },
   "outputs": [],
   "source": [
    "model3 <- keras_model_sequential() \n",
    "model3 %>%\n",
    "  layer_conv_2d(filters = 16,                      # number of convolution filters in conv layer 1\n",
    "                kernel_size = c(3,3),              # use 3 x 3 convolution filter in conv layer 1\n",
    "                input_shape = c(img_height, img_width, 3)) %>%    # shape of input data\n",
    "  layer_activation('relu') %>%                     # activation function in conv layer 1\n",
    "  layer_dropout(rate = 0.20) %>%                   # apply 20% dropout after conv layer 1\n",
    "  layer_conv_2d(filters = 16,                      # number of convolution filters in conv layer 2\n",
    "                kernel_size = c(3,3)) %>%          # also use 3 x 3 filter in conv layer 2\n",
    "  layer_activation('relu') %>%                     # activation function in conv layer 2\n",
    "  layer_max_pooling_2d(pool_size = c(2, 2)) %>%    # apply max pooling after conv layer 2\n",
    "  layer_flatten() %>%                              # flatten output into a vector\n",
    "  layer_dense(units = 1, activation = 'sigmoid') %>%  # fully connected to output layer\n",
    "  compile(\n",
    "  loss = 'binary_crossentropy',\n",
    "  optimizer = 'rmsprop',\n",
    "  metrics = c('accuracy')\n",
    ")"
   ]
  },
  {
   "cell_type": "markdown",
   "metadata": {},
   "source": [
    "Fit the model. Note that this is slightly different from before - we use a function called `fit_generator()`, because we have used the `flow_images_from_directory()` function to \"generate\" batches of images (see above)."
   ]
  },
  {
   "cell_type": "code",
   "execution_count": null,
   "metadata": {
    "collapsed": true
   },
   "outputs": [],
   "source": [
    "model3 %>% fit_generator(\n",
    "  train_generator,\n",
    "  steps_per_epoch = as.integer(train_samples / batch_size), \n",
    "  epochs = 20, \n",
    "  validation_data = validation_generator,\n",
    "  validation_steps = as.integer(validation_samples / batch_size),\n",
    "  verbose = 1)\n"
   ]
  },
  {
   "cell_type": "markdown",
   "metadata": {},
   "source": [
    "Evaluate the model on test data."
   ]
  },
  {
   "cell_type": "code",
   "execution_count": null,
   "metadata": {
    "collapsed": true
   },
   "outputs": [],
   "source": [
    "model3 %>% evaluate_generator(test_generator, steps = test_samples)"
   ]
  },
  {
   "cell_type": "markdown",
   "metadata": {},
   "source": [
    "### Try this!\n",
    "\n",
    "Now try fit the full dataset, and vary the CNN architecture."
   ]
  }
 ],
 "metadata": {
  "kernelspec": {
   "display_name": "R",
   "language": "R",
   "name": "ir"
  },
  "language_info": {
   "codemirror_mode": "r",
   "file_extension": ".r",
   "mimetype": "text/x-r-source",
   "name": "R",
   "pygments_lexer": "r",
   "version": "3.4.1"
  }
 },
 "nbformat": 4,
 "nbformat_minor": 2
}
